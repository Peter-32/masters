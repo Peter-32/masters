{
 "cells": [
  {
   "cell_type": "code",
   "execution_count": 22,
   "id": "9ca8ce9b",
   "metadata": {},
   "outputs": [
    {
     "data": {
      "text/plain": [
       "-1"
      ]
     },
     "execution_count": 22,
     "metadata": {},
     "output_type": "execute_result"
    }
   ],
   "source": [
    "arr = [1, 5, 8, 15, 26, 30, 50, 83, 86]\n",
    "search = 45; left_i = 0; right_i = len(arr) - 1\n",
    "for _ in range(len(arr)):\n",
    "    i = (left_i + right_i) // 2\n",
    "    if arr[i] == search:\n",
    "        answer = i; break\n",
    "    if left_i == right_i:\n",
    "        answer = -1; break\n",
    "    if arr[i] < search:\n",
    "        left_i = i + 1\n",
    "    if arr[i] > search:\n",
    "        right_i = i - 1\n",
    "answer"
   ]
  },
  {
   "cell_type": "code",
   "execution_count": null,
   "id": "76b5f482",
   "metadata": {},
   "outputs": [],
   "source": []
  }
 ],
 "metadata": {
  "kernelspec": {
   "display_name": "Python 3 (ipykernel)",
   "language": "python",
   "name": "python3"
  },
  "language_info": {
   "codemirror_mode": {
    "name": "ipython",
    "version": 3
   },
   "file_extension": ".py",
   "mimetype": "text/x-python",
   "name": "python",
   "nbconvert_exporter": "python",
   "pygments_lexer": "ipython3",
   "version": "3.10.11"
  }
 },
 "nbformat": 4,
 "nbformat_minor": 5
}
